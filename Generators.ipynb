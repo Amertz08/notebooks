{
 "cells": [
  {
   "cell_type": "markdown",
   "metadata": {},
   "source": [
    "# Introduction to Generators in Python\n",
    "[Intermediate Python](http://book.pythontips.com/en/latest/generators.html) probably best explains generators.\n",
    ">Generators are iterators, but you can only iterate over them once. It’s because they do not store all the values in memory, they generate the values on the fly. You use them by iterating over them, either with a ‘for’ loop or by passing them to any function or construct that iterates."
   ]
  },
  {
   "cell_type": "markdown",
   "metadata": {},
   "source": [
    "What if you wanted to return all dates between a starting and ending date? The following code block shows how you could do that but it is not very resusable..."
   ]
  },
  {
   "cell_type": "code",
   "execution_count": 2,
   "metadata": {
    "collapsed": false
   },
   "outputs": [
    {
     "name": "stdout",
     "output_type": "stream",
     "text": [
      "2015-01-01 2015-03-31\n"
     ]
    }
   ],
   "source": [
    "import datetime\n",
    "\n",
    "start = datetime.datetime.strptime('2015-01-01', '%Y-%m-%d').date()\n",
    "end = datetime.datetime.strptime('2015-03-31', '%Y-%m-%d').date()\n",
    "print start, end"
   ]
  },
  {
   "cell_type": "code",
   "execution_count": 3,
   "metadata": {
    "collapsed": false
   },
   "outputs": [
    {
     "name": "stdout",
     "output_type": "stream",
     "text": [
      "2015-01-01\n",
      "2015-01-02\n",
      "2015-01-03\n",
      "2015-01-04\n",
      "2015-01-05\n",
      "2015-01-06\n",
      "2015-01-07\n",
      "2015-01-08\n",
      "2015-01-09\n",
      "2015-01-10\n",
      "2015-01-11\n",
      "2015-01-12\n",
      "2015-01-13\n",
      "2015-01-14\n",
      "2015-01-15\n",
      "2015-01-16\n",
      "2015-01-17\n",
      "2015-01-18\n",
      "2015-01-19\n",
      "2015-01-20\n",
      "2015-01-21\n",
      "2015-01-22\n",
      "2015-01-23\n",
      "2015-01-24\n",
      "2015-01-25\n",
      "2015-01-26\n",
      "2015-01-27\n",
      "2015-01-28\n",
      "2015-01-29\n",
      "2015-01-30\n",
      "2015-01-31\n",
      "2015-02-01\n",
      "2015-02-02\n",
      "2015-02-03\n",
      "2015-02-04\n",
      "2015-02-05\n",
      "2015-02-06\n",
      "2015-02-07\n",
      "2015-02-08\n",
      "2015-02-09\n",
      "2015-02-10\n",
      "2015-02-11\n",
      "2015-02-12\n",
      "2015-02-13\n",
      "2015-02-14\n",
      "2015-02-15\n",
      "2015-02-16\n",
      "2015-02-17\n",
      "2015-02-18\n",
      "2015-02-19\n",
      "2015-02-20\n",
      "2015-02-21\n",
      "2015-02-22\n",
      "2015-02-23\n",
      "2015-02-24\n",
      "2015-02-25\n",
      "2015-02-26\n",
      "2015-02-27\n",
      "2015-02-28\n",
      "2015-03-01\n",
      "2015-03-02\n",
      "2015-03-03\n",
      "2015-03-04\n",
      "2015-03-05\n",
      "2015-03-06\n",
      "2015-03-07\n",
      "2015-03-08\n",
      "2015-03-09\n",
      "2015-03-10\n",
      "2015-03-11\n",
      "2015-03-12\n",
      "2015-03-13\n",
      "2015-03-14\n",
      "2015-03-15\n",
      "2015-03-16\n",
      "2015-03-17\n",
      "2015-03-18\n",
      "2015-03-19\n",
      "2015-03-20\n",
      "2015-03-21\n",
      "2015-03-22\n",
      "2015-03-23\n",
      "2015-03-24\n",
      "2015-03-25\n",
      "2015-03-26\n",
      "2015-03-27\n",
      "2015-03-28\n",
      "2015-03-29\n",
      "2015-03-30\n",
      "2015-03-31\n"
     ]
    }
   ],
   "source": [
    "for i in range((end - start).days + 1):\n",
    "    print start + datetime.timedelta(days=i)"
   ]
  },
  {
   "cell_type": "markdown",
   "metadata": {},
   "source": [
    "This is for sure an opportunity to write our own generator"
   ]
  },
  {
   "cell_type": "code",
   "execution_count": 4,
   "metadata": {
    "collapsed": true
   },
   "outputs": [],
   "source": [
    "import datetime\n",
    "\n",
    "def date_range(start, end):\n",
    "    for i in range((end - start).days + 1):\n",
    "        yield start + datetime.timedelta(days=i)"
   ]
  },
  {
   "cell_type": "markdown",
   "metadata": {},
   "source": [
    "`(end - start)` is actually a `timedelta` object and thus you can use `(end - start).days` to return the amount of days between the two. We increment by 1 to make the range inclusive."
   ]
  },
  {
   "cell_type": "code",
   "execution_count": 5,
   "metadata": {
    "collapsed": false
   },
   "outputs": [
    {
     "name": "stdout",
     "output_type": "stream",
     "text": [
      "2015-01-01\n",
      "2015-01-02\n",
      "2015-01-03\n",
      "2015-01-04\n",
      "2015-01-05\n",
      "2015-01-06\n",
      "2015-01-07\n",
      "2015-01-08\n",
      "2015-01-09\n",
      "2015-01-10\n",
      "2015-01-11\n",
      "2015-01-12\n",
      "2015-01-13\n",
      "2015-01-14\n",
      "2015-01-15\n",
      "2015-01-16\n",
      "2015-01-17\n",
      "2015-01-18\n",
      "2015-01-19\n",
      "2015-01-20\n",
      "2015-01-21\n",
      "2015-01-22\n",
      "2015-01-23\n",
      "2015-01-24\n",
      "2015-01-25\n",
      "2015-01-26\n",
      "2015-01-27\n",
      "2015-01-28\n",
      "2015-01-29\n",
      "2015-01-30\n",
      "2015-01-31\n",
      "2015-02-01\n",
      "2015-02-02\n",
      "2015-02-03\n",
      "2015-02-04\n",
      "2015-02-05\n",
      "2015-02-06\n",
      "2015-02-07\n",
      "2015-02-08\n",
      "2015-02-09\n",
      "2015-02-10\n",
      "2015-02-11\n",
      "2015-02-12\n",
      "2015-02-13\n",
      "2015-02-14\n",
      "2015-02-15\n",
      "2015-02-16\n",
      "2015-02-17\n",
      "2015-02-18\n",
      "2015-02-19\n",
      "2015-02-20\n",
      "2015-02-21\n",
      "2015-02-22\n",
      "2015-02-23\n",
      "2015-02-24\n",
      "2015-02-25\n",
      "2015-02-26\n",
      "2015-02-27\n",
      "2015-02-28\n",
      "2015-03-01\n",
      "2015-03-02\n",
      "2015-03-03\n",
      "2015-03-04\n",
      "2015-03-05\n",
      "2015-03-06\n",
      "2015-03-07\n",
      "2015-03-08\n",
      "2015-03-09\n",
      "2015-03-10\n",
      "2015-03-11\n",
      "2015-03-12\n",
      "2015-03-13\n",
      "2015-03-14\n",
      "2015-03-15\n",
      "2015-03-16\n",
      "2015-03-17\n",
      "2015-03-18\n",
      "2015-03-19\n",
      "2015-03-20\n",
      "2015-03-21\n",
      "2015-03-22\n",
      "2015-03-23\n",
      "2015-03-24\n",
      "2015-03-25\n",
      "2015-03-26\n",
      "2015-03-27\n",
      "2015-03-28\n",
      "2015-03-29\n",
      "2015-03-30\n",
      "2015-03-31\n"
     ]
    }
   ],
   "source": [
    "for x in date_range(start, end):\n",
    "    print x"
   ]
  },
  {
   "cell_type": "markdown",
   "metadata": {},
   "source": [
    "Since generators do not store their values in memory then they can really improve the performance of your application. "
   ]
  },
  {
   "cell_type": "code",
   "execution_count": 6,
   "metadata": {
    "collapsed": true
   },
   "outputs": [],
   "source": [
    "import time"
   ]
  },
  {
   "cell_type": "code",
   "execution_count": 7,
   "metadata": {
    "collapsed": false
   },
   "outputs": [
    {
     "name": "stdout",
     "output_type": "stream",
     "text": [
      "Seconds: 0.898113012314\n"
     ]
    }
   ],
   "source": [
    "def Fibonacci(n):\n",
    "    if n == 0: return 0\n",
    "    elif n == 1: return 1\n",
    "    else: return Fibonacci(n-1)+Fibonacci(n-2)\n",
    "\n",
    "count = 0\n",
    "start = time.time()\n",
    "while count < 30:\n",
    "    Fibonacci(count)\n",
    "    count += 1\n",
    "time_A = time.time() - start\n",
    "print 'Seconds: {0}'.format(time_A)"
   ]
  },
  {
   "cell_type": "code",
   "execution_count": 8,
   "metadata": {
    "collapsed": false
   },
   "outputs": [
    {
     "name": "stdout",
     "output_type": "stream",
     "text": [
      "Seconds: 0.000142097473145\n"
     ]
    }
   ],
   "source": [
    "def fib():\n",
    "    a, b = 0, 1\n",
    "    while 1:\n",
    "        yield a\n",
    "        a, b = b, a + b\n",
    "        \n",
    "\n",
    "count = 0\n",
    "start = time.time()\n",
    "for n in fib():\n",
    "    if count == 30:\n",
    "        time_B = time.time() - start\n",
    "        break\n",
    "    count += 1\n",
    "print 'Seconds: {0}'.format(time_B)"
   ]
  },
  {
   "cell_type": "code",
   "execution_count": null,
   "metadata": {
    "collapsed": true
   },
   "outputs": [],
   "source": []
  }
 ],
 "metadata": {
  "kernelspec": {
   "display_name": "Python 2",
   "language": "python",
   "name": "python2"
  },
  "language_info": {
   "codemirror_mode": {
    "name": "ipython",
    "version": 2
   },
   "file_extension": ".py",
   "mimetype": "text/x-python",
   "name": "python",
   "nbconvert_exporter": "python",
   "pygments_lexer": "ipython2",
   "version": "2.7.10"
  }
 },
 "nbformat": 4,
 "nbformat_minor": 0
}
