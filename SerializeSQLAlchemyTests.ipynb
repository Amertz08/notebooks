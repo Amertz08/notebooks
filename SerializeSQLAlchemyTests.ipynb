{
 "cells": [
  {
   "cell_type": "code",
   "execution_count": 1,
   "metadata": {
    "collapsed": false
   },
   "outputs": [],
   "source": [
    "from datetime import datetime, date\n",
    "\n",
    "from sqlalchemy import Column, DateTime, Date, String, Integer, func\n",
    "from sqlalchemy.ext.declarative import declarative_base\n",
    "\n",
    "Base = declarative_base()\n",
    "\n",
    "def filter_func(val):\n",
    "    if isinstance(val, datetime):\n",
    "        return val.strftime('%Y-%m-%d %H:%M:%S')\n",
    "    elif isinstance(val, date):\n",
    "        return val.strftime('%Y-%m-%d')\n",
    "    elif val is None:\n",
    "        return ''\n",
    "    return val\n",
    "\n",
    "\n",
    "def gen_one(obj):\n",
    "    if not isinstance(obj, Base):\n",
    "        raise TypeError('obj must be SQLAlchemy model')\n",
    "    for i in obj.__table__.columns:\n",
    "        val = getattr(obj, i.name)\n",
    "        if isinstance(val, datetime):\n",
    "            yield i.name, val.strftime('%Y-%m-%d %H:%M:%S')\n",
    "        elif isinstance(val, date):\n",
    "            yield i.name, val.strftime('%Y-%m-%d')\n",
    "        elif val is None:\n",
    "            yield i.name, ''\n",
    "        yield i.name, val\n",
    "            \n",
    "def gen_two(obj):\n",
    "    if not isinstance(obj, Base):\n",
    "        raise TypeError('obj must be SQLAlchemy model')\n",
    "    for i in obj.__table__.columns:\n",
    "        yield i.name, filter_func(getattr(obj, i.name))\n",
    "\n",
    "\n",
    "class ObjectOne(Base):\n",
    "    __tablename__ = 'object_one'\n",
    "    id = Column(Integer, primary_key=True)\n",
    "    first = Column(String)\n",
    "    last = Column(String)\n",
    "    created = Column(DateTime, default=func.now())\n",
    "    update = Column(Date, default=func.now())\n",
    "\n",
    "    def __init__(self, **kwargs):\n",
    "        super(ObjectOne, self).__init__(**kwargs)\n",
    "\n",
    "    @property\n",
    "    def serialize(self):\n",
    "        return {i.name: filter_func(getattr(self, i.name)) for i in self.__table__.columns}\n",
    "\n",
    "\n",
    "class ObjectTwo(Base):\n",
    "    __tablename__ = 'object_two'\n",
    "    id = Column(Integer, primary_key=True)\n",
    "    first = Column(String)\n",
    "    last = Column(String)\n",
    "    created = Column(DateTime, default=func.now())\n",
    "    update = Column(Date, default=func.now())\n",
    "\n",
    "    def __init__(self, **kwargs):\n",
    "        super(ObjectTwo, self).__init__(**kwargs)\n",
    "\n",
    "    @property\n",
    "    def serialize(self):\n",
    "        return {key: val for key, val in gen_one(self)}\n",
    "\n",
    "\n",
    "class ObjectThree(Base):\n",
    "    __tablename__ = 'object_three'\n",
    "    id = Column(Integer, primary_key=True)\n",
    "    first = Column(String)\n",
    "    last = Column(String)\n",
    "    created = Column(DateTime, default=func.now())\n",
    "    update = Column(Date, default=func.now())\n",
    "\n",
    "    def __init__(self, **kwargs):\n",
    "        super(ObjectThree, self).__init__(**kwargs)\n",
    "\n",
    "    @property\n",
    "    def serialize(self):\n",
    "        return {key: val for key, val in gen_two(self)}"
   ]
  },
  {
   "cell_type": "code",
   "execution_count": 2,
   "metadata": {
    "collapsed": false
   },
   "outputs": [
    {
     "name": "stdout",
     "output_type": "stream",
     "text": [
      "{'update': '2016-01-21', 'created': '2016-08-16 22:15:04', 'last': 'Flair', 'id': '', 'first': 'Ric'}\n",
      "{'update': datetime.date(2016, 1, 21), 'created': datetime.datetime(2016, 8, 16, 22, 15, 4, 204963), 'last': 'Flair', 'id': None, 'first': 'Ric'}\n",
      "{'update': '2016-01-21', 'created': '2016-08-16 22:15:04', 'last': 'Flair', 'id': '', 'first': 'Ric'}\n"
     ]
    }
   ],
   "source": [
    "a = ObjectOne(\n",
    "    first='Ric',\n",
    "    last='Flair',\n",
    "    created=datetime.now(),\n",
    "    update=date(2016, 1, 21)\n",
    ")\n",
    "\n",
    "print a.serialize\n",
    "\n",
    "b = ObjectTwo(\n",
    "    first='Ric',\n",
    "    last='Flair',\n",
    "    created=datetime.now(),\n",
    "    update=date(2016, 1, 21)\n",
    ")\n",
    "print b.serialize\n",
    "\n",
    "c = ObjectThree(\n",
    "    first='Ric',\n",
    "    last='Flair',\n",
    "    created=datetime.now(),\n",
    "    update=date(2016, 1, 21)\n",
    ")\n",
    "print c.serialize"
   ]
  },
  {
   "cell_type": "code",
   "execution_count": 3,
   "metadata": {
    "collapsed": false
   },
   "outputs": [
    {
     "name": "stdout",
     "output_type": "stream",
     "text": [
      "100000 loops, best of 5: 28.2 µs per loop\n"
     ]
    }
   ],
   "source": [
    "%timeit -n 100000 -r 5 a.serialize"
   ]
  },
  {
   "cell_type": "code",
   "execution_count": 6,
   "metadata": {
    "collapsed": false
   },
   "outputs": [
    {
     "name": "stdout",
     "output_type": "stream",
     "text": [
      "100000 loops, best of 5: 29.7 µs per loop\n"
     ]
    }
   ],
   "source": [
    "%timeit -n 100000 -r 5 b.serialize"
   ]
  },
  {
   "cell_type": "code",
   "execution_count": 7,
   "metadata": {
    "collapsed": false
   },
   "outputs": [
    {
     "name": "stdout",
     "output_type": "stream",
     "text": [
      "100000 loops, best of 5: 29.3 µs per loop\n"
     ]
    }
   ],
   "source": [
    "%timeit -n 100000 -r 5 c.serialize"
   ]
  },
  {
   "cell_type": "markdown",
   "metadata": {
    "collapsed": true
   },
   "source": [
    "# Example\n",
    "\n",
    "Using Flask\n",
    "\n",
    "```python\n",
    "@api.route('/items', methods=['GET'])\n",
    "def items():\n",
    "    l = Item.query.all()\n",
    "    return jsonify([i.serialize for i in l])\n",
    "```"
   ]
  },
  {
   "cell_type": "code",
   "execution_count": null,
   "metadata": {
    "collapsed": true
   },
   "outputs": [],
   "source": []
  }
 ],
 "metadata": {
  "kernelspec": {
   "display_name": "Python 2",
   "language": "python",
   "name": "python2"
  },
  "language_info": {
   "codemirror_mode": {
    "name": "ipython",
    "version": 2
   },
   "file_extension": ".py",
   "mimetype": "text/x-python",
   "name": "python",
   "nbconvert_exporter": "python",
   "pygments_lexer": "ipython2",
   "version": "2.7.10"
  }
 },
 "nbformat": 4,
 "nbformat_minor": 0
}
